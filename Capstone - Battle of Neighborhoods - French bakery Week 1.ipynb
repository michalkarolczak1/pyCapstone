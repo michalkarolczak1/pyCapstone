{
    "cells": [
        {
            "metadata": {
                "collapsed": true
            },
            "cell_type": "markdown",
            "source": "<h2>author: :Michal Karolczak</h2>\n<h1>Capstone Project - The Battle of Neighborhoods</h1>\n"
        },
        {
            "metadata": {},
            "cell_type": "markdown",
            "source": "<h2>Introduction: Business Problem</h2>\nThe aim of this project is to find the best locations for French Bakery (p\u00e2tisserie) in the New York City area. Specifically, this report will be targeted to stakeholders who are interested in <b>opening a French Bakery in New York, USA.</b><br><br>\n    New York is one the biggest cities in the world. It's both one of the largest economical center of the world and one of the most popular tourist attraction. With an estimated 2019 population of 8,336,817 distributed over about 302.6 square miles and a gross metropolitan product (GMP) of $2.0 trillion makes New York one of the most popular places to invest and open business there. There are many bakeries in NYC, we will conclude whare are the existing bakeries and also find locations where there are none. The report will explore in which neighborhoods and boroughs of NYC the most  bakeries are located and where to open new French bakery."
        },
        {
            "metadata": {},
            "cell_type": "markdown",
            "source": "<h2>Problem description:</h2>\nA Bakery is a place where someone can usually buy breakfeast or some small-medium snack. French bakery specializes in french bread, pastries and sweets which allows it to run both as morning place to buy bread and also as a place to buy takeaway or get a small-medium lunch\nIt's a competetive market so some assumptions have been made:<br>\n    1. it would be good to open new bakery where there are none or small number of bakeries<br>\n    2. as a hint for finding the best place it would be good to find locations with French Restaurants as bakery won't be the competitions to the restaurant (offers small takeaway meals) but would be located near other French joints - People in the area might be interested in additional French meals<br>"
        },
        {
            "metadata": {},
            "cell_type": "markdown",
            "source": "<h2>Data</h2>\nIn order to find the answers for the problems provided we need:\n\n1. a dataset that contains all 5 NYC boroughs and all of the neighborhoods that exist in each borough as well as the the latitude and longitude coordinates of each neighborhood.\nNY CITY DATA SET has all these information:<br>\nhttps://cocl.us/new_york_dataset <br>\nData set can provide us the below information:<br>\n-Borough,<br>\n-Neighborhood,<br>\n-Latitude,<br>\n-Longitude<br>\nwhich is enough to visualize Neighbourhoods and use them to query FourSqare data using API<br>\n<br>\n2. location of current venues (we will filter the Bakeries and French Restaurants). For that we can use FourSquare API:<br>\nhttps://api.foursquare.com/v2/venues/explore <br>\nFourSquare API can provide us the below information:<br>\n-VenueID (which can be used to identify Venue and get Venue details), <br>\n-Venue Name (to identify the Venue for humans), <br>\n-Venue Location (lat and lng),  <br>\n-Venue categories (to filter Bakeries and French Restaurants)<br>\n"
        },
        {
            "metadata": {},
            "cell_type": "markdown",
            "source": "<h2>Methodology</h2><br>\n    1. Download NY Data Set, clean and process the downloaded data and import it to Panda DataFrame<br>\n    2. Visualize all the neighborhoods using Folium<br>\n    3. Using FourSquare API localize all the bakeries in the neighbourhoods.<br>\n    4. Visualize the 'bakeries in the neighbourhoods' results (HeatMap)<br>\n    5. Using FourSquare API localize all the neighbourhoods without bakeries<br>\n    6. Visualize the 'neighbourhoods without bakeries' results (HeatMap)<br>\n    7. Using FourSquare API localize all the neighbourhoods with French Restaurants<br>\n    8. Use k-means algorithm to group the data (bakeries and French Restaurants)<br>\n    9. Analyze and choose the best neighbourhoods among clusters"
        },
        {
            "metadata": {},
            "cell_type": "markdown",
            "source": "Confirm that data frame has 5 boroughs and 306 neighbourhoods:"
        },
        {
            "metadata": {},
            "cell_type": "code",
            "source": "",
            "execution_count": null,
            "outputs": []
        }
    ],
    "metadata": {
        "kernelspec": {
            "name": "python3",
            "display_name": "Python 3.7",
            "language": "python"
        },
        "language_info": {
            "name": "python",
            "version": "3.7.10",
            "mimetype": "text/x-python",
            "codemirror_mode": {
                "name": "ipython",
                "version": 3
            },
            "pygments_lexer": "ipython3",
            "nbconvert_exporter": "python",
            "file_extension": ".py"
        }
    },
    "nbformat": 4,
    "nbformat_minor": 1
}
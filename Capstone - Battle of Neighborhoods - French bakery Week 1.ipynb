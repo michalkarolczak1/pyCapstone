{
    "cells": [
        {
            "metadata": {
                "collapsed": true
            },
            "cell_type": "markdown",
            "source": "<h2>author: :Michal Karolczak</h2>\n<h1>Capstone Project - The Battle of Neighborhoods</h1>\n"
        },
        {
            "metadata": {},
            "cell_type": "markdown",
            "source": "<h2>Introduction: Business Problem</h2>\nThe aim of this project is to find the best locations for French Bakery (p\u00e2tisserie) in the New York City area. Specifically, this report will be targeted to stakeholders who are interested in <b>opening a French Bakery in New York, USA.</b><br><br>\n    New York is one the biggest cities in the world. It's both one of the largest economical center of the world and one of the most popular tourist attraction. With an estimated 2019 population of 8,336,817 distributed over about 302.6 square miles and a gross metropolitan product (GMP) of $2.0 trillion makes New York one of the most popular places to invest and open business there. There are many bakeries in NYC, we will conclude whare are the existing bakeries and also find locations where there are none. The report will explore in which neighborhoods and boroughs of NYC the most  bakeries are located and where to open new French bakery."
        },
        {
            "metadata": {},
            "cell_type": "markdown",
            "source": "<h2>Problem description:</h2>"
        },
        {
            "metadata": {},
            "cell_type": "markdown",
            "source": "A Bakery is a place where someone can usually buy breakfeast or some small-medium snack. French bakery specializes in french bread, pastries and sweets which allows it to run both as morning place to buy bread and also as a place to buy takeaway or get a small-medium lunch\nIt's a competetive market so some assumptions have been made:<br>\n    1. it would be good to open new bakery where there are none or small number of bakeries<br>\n    2. as a hint for finding the best place it would be good to find locations with French Restaurants as bakery won't be the competitions to the restaurant (offers small takeaway meals) but would be located near other French joints - People in the area might be interested in additional French meals<br>"
        },
        {
            "metadata": {},
            "cell_type": "markdown",
            "source": "<h2>Data</h2>\nIn order to find the answers for the problems provided we need:\n\n1. a dataset that contains all 5 NYC boroughs and all of the neighborhoods (306) that exist in each borough as well as the the latitude and longitude coordinates of each neighborhood.\nNY CITY DATA SET has all these information:<br>\nhttps://cocl.us/new_york_dataset <br>\nDataSet is in csv format and it's free and available to download.\nData set can provide us the below information:<br>\n-Borough - borough name,<br>\n-Neighborhood - neighbourhood name,<br>\n-Latitude - latitute of the neighborhood,<br>\n-Longitude - longtitude of the neighborhood<br>\nwhich is enough to visualize Neighbourhoods and use them to query FourSqare data using API<br>\n<br>\nExample data from the DataSet:<br>\n<b>Borough\tNeighborhood\tLatitude\tLongitude</b><br>\n0\tBronx\tWakefield\t40.894705\t-73.847201<br>\n1\tBronx\tCo-op City\t40.874294\t-73.829939<br>\n2\tBronx\tEastchester\t40.887556\t-73.827806<br><br>\n2. location of current venues (we will filter the Bakeries and French Restaurants). For that we can use FourSquare API:<br>\nhttps://api.foursquare.com/v2/venues/explore <br>\nFourSquare API can provide us the below information:<br>\n-VenueID (which can be used to identify Venue and get Venue details), <br>\n-Venue Name - name of the Venue, <br>\n-Venue Location - lat and lng of the Venue,  <br>\n-Venue categories - category of the Venue, in our case it will be used to filter Bakeries and French Restaurants<br>\n\nWe will use the API with our CLIENT_ID and SECRET to connect to FourSquare. For each neigborhood I will get the data using my own function def getNearbyVenues(names, latitudes, longitudes, boroughs)\nData is returned as JSON with the below format:<br>\n    [\"response\"]['groups'][0]['items']['venue']<br>\n    where [\"venue\"] contains:<br>\n-v['venue']['id']<br>\n-v['venue']['name'] <br>\n-v['venue']['location']['lat']<br> \n-v['venue']['location']['lng']  <br>\n-v['venue']['categories']<br><br>"
        },
        {
            "metadata": {},
            "cell_type": "markdown",
            "source": "Example data from the DataSet:<br>\n    <b>|VenueID               \t\t|Venue\t|Venue Latitude\t|Venue Longitude\t|Venue Category</b><br>\n\t|4c537892fd2ea593cb077a28\t|Lollipops Gelato\t|40.894123\t|-73.845892\t|Dessert Shop<br>\n\t|4c783cef3badb1f7e4244b54\t|Carvel Ice Cream\t|40.890487\t|-73.848568\t|Ice Cream Shop<br>\n\t|5d5f5044d0ae1c0008f043c3\t|Walgreens\t|40.896528\t|-73.844700\t|Pharmacy<br>\n\t|4d33665fb6093704b80001e0\t|Subway\t|40.890468\t|-73.849152\t|Sandwich Place<br>"
        },
        {
            "metadata": {},
            "cell_type": "markdown",
            "source": "<h2>Methodology</h2><br>\n    1. Download NY Data Set, clean and process the downloaded data and import it to Panda DataFrame<br>\n    2. Visualize all the neighborhoods using Folium<br>\n    3. Using FourSquare API localize all the bakeries in all the neighbourhoods.<br>\n    4. Visualize the 'bakeries in the neighbourhoods' results (HeatMap)<br>\n    5. Using FourSquare API data localize all the neighbourhoods without bakeries<br>\n    6. Visualize the 'neighbourhoods without bakeries' results (HeatMap)<br>\n    7. Using FourSquare API localize all the neighbourhoods with French Restaurants<br>\n    8. Use k-means algorithm to group the data (bakeries and French Restaurants) into clusters (choose the best number of clusters)<br>\n    9. Analyze and choose the best neighbourhoods among clusters based on the mean values among the clusters"
        },
        {
            "metadata": {},
            "cell_type": "markdown",
            "source": "<h2>Target Audience:</h2>\nTo recommend the correct location, Bakery Company Ltd has appointed me to lead of the Data Science team. The objective is to locate and recommend to the management which neighborhood of New York city will be best choice to start a bakery. The Management also expects to understand the rationale of the recommendations made.\n\nThis would interest anyone who wants to start a new bakery in New York."
        },
        {
            "metadata": {},
            "cell_type": "markdown",
            "source": "<h2>Success Criteria:</h2>\nThe success criteria of the project will be a good recommendation of borough choice to Bakery Company Ltd based on lack of such venues in that location and popularity of French cousines in the area."
        },
        {
            "metadata": {},
            "cell_type": "code",
            "source": "",
            "execution_count": null,
            "outputs": []
        }
    ],
    "metadata": {
        "kernelspec": {
            "name": "python3",
            "display_name": "Python 3.7",
            "language": "python"
        },
        "language_info": {
            "name": "python",
            "version": "3.7.10",
            "mimetype": "text/x-python",
            "codemirror_mode": {
                "name": "ipython",
                "version": 3
            },
            "pygments_lexer": "ipython3",
            "nbconvert_exporter": "python",
            "file_extension": ".py"
        }
    },
    "nbformat": 4,
    "nbformat_minor": 1
}